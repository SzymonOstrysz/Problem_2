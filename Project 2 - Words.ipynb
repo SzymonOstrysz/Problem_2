{
 "cells": [
  {
   "cell_type": "markdown",
   "id": "98f6c74d",
   "metadata": {},
   "source": [
    "## Project 2 - Words"
   ]
  },
  {
   "cell_type": "markdown",
   "id": "1fda688f",
   "metadata": {},
   "source": [
    "To read the file --> open(file, mode)\n",
    "\n",
    "    * mode:\n",
    "        * r: read (default)\n",
    "        * a: append\n",
    "        * w: write\n",
    "        * x: create"
   ]
  },
  {
   "cell_type": "code",
   "execution_count": 1,
   "id": "904c83af",
   "metadata": {},
   "outputs": [],
   "source": [
    "file = open('words.txt')"
   ]
  },
  {
   "cell_type": "code",
   "execution_count": 2,
   "id": "646cd99b",
   "metadata": {},
   "outputs": [
    {
     "data": {
      "text/plain": [
       "'Lorem\\n'"
      ]
     },
     "execution_count": 2,
     "metadata": {},
     "output_type": "execute_result"
    }
   ],
   "source": [
    "file.readline()"
   ]
  },
  {
   "cell_type": "code",
   "execution_count": 3,
   "id": "d34c9b9c",
   "metadata": {},
   "outputs": [
    {
     "data": {
      "text/plain": [
       "'ipsum\\n'"
      ]
     },
     "execution_count": 3,
     "metadata": {},
     "output_type": "execute_result"
    }
   ],
   "source": [
    "file.readline()"
   ]
  },
  {
   "cell_type": "markdown",
   "id": "afd369c1",
   "metadata": {},
   "source": [
    "Special chars:\n",
    "\n",
    "    * \\n: new line character\n",
    "    * \\r: carriage return (enter)\n",
    "    "
   ]
  },
  {
   "cell_type": "code",
   "execution_count": 4,
   "id": "6f0ada00",
   "metadata": {
    "collapsed": true
   },
   "outputs": [
    {
     "name": "stdout",
     "output_type": "stream",
     "text": [
      "Lorem\n",
      "\n",
      "ipsum\n",
      "\n",
      "dolor\n",
      "\n",
      "sit\n",
      "\n",
      "amet\n",
      "\n",
      "consectetur\n",
      "\n",
      "adipiscing\n",
      "\n",
      "elit\n",
      "\n",
      "Nulla\n",
      "\n",
      "sodales\n",
      "\n"
     ]
    }
   ],
   "source": [
    "file = open('words.txt')\n",
    "\n",
    "for index, line in enumerate (file):\n",
    "    \n",
    "    if index < 10:\n",
    "        print (line)\n",
    "    "
   ]
  },
  {
   "cell_type": "code",
   "execution_count": 7,
   "id": "26d51dd0",
   "metadata": {},
   "outputs": [
    {
     "name": "stdout",
     "output_type": "stream",
     "text": [
      "['Lorem']\n",
      "['ipsum']\n",
      "['dolor']\n",
      "['sit']\n",
      "['amet']\n",
      "['consectetur']\n",
      "['adipiscing']\n",
      "['elit']\n",
      "['Nulla']\n",
      "['sodales']\n",
      "['orci']\n",
      "['sed']\n",
      "['nisl']\n",
      "['tempor']\n",
      "['tristique']\n",
      "['Donec']\n",
      "['commodo']\n",
      "['non']\n",
      "['leo']\n",
      "['quis']\n"
     ]
    }
   ],
   "source": [
    "file = open('words.txt')\n",
    "\n",
    "for index, line in enumerate (file):\n",
    "    \n",
    "    if index < 20:\n",
    "        word_list = line.split()\n",
    "        print(word_list)\n",
    "        \n",
    "    "
   ]
  },
  {
   "cell_type": "code",
   "execution_count": 9,
   "id": "c7c6cc67",
   "metadata": {},
   "outputs": [
    {
     "name": "stdout",
     "output_type": "stream",
     "text": [
      "consectetur\n",
      "pellentesque\n",
      "sollicitudin\n",
      "scelerisque\n",
      "ullamcorper\n",
      "condimentum\n",
      "Suspendisse\n"
     ]
    }
   ],
   "source": [
    "# Exercise 1\n",
    "\n",
    "file = open('words.txt')\n",
    "\n",
    "for line in file:\n",
    "    \n",
    "    word_list = line.split()\n",
    "    word = word_list[0]\n",
    "    \n",
    "    if len(word) > 10:\n",
    "        print(word)"
   ]
  },
  {
   "cell_type": "code",
   "execution_count": 44,
   "id": "fa51492c",
   "metadata": {},
   "outputs": [],
   "source": [
    "# Exercise 2\n",
    "\n",
    "def check_for_vowels():\n",
    "\n",
    "    file = open('words.txt')\n",
    "\n",
    "    for line in file:\n",
    "\n",
    "        word_list = line.split()\n",
    "        word = word_list[0]\n",
    "\n",
    "        if not 'a' in word and \\\n",
    "           not 'e' in word and \\\n",
    "           not 'i' in word and \\\n",
    "           not 'u' in word and \\\n",
    "           not 'o' in word:\n",
    "            print(word)\n"
   ]
  },
  {
   "cell_type": "code",
   "execution_count": 45,
   "id": "199ea006",
   "metadata": {
    "scrolled": true
   },
   "outputs": [
    {
     "name": "stdout",
     "output_type": "stream",
     "text": [
      "In\n",
      "trylyk\n",
      "Antryl\n"
     ]
    }
   ],
   "source": [
    "check_for_vowels()"
   ]
  },
  {
   "cell_type": "code",
   "execution_count": 48,
   "id": "e40b2441",
   "metadata": {},
   "outputs": [],
   "source": [
    "def check_for_vowels():\n",
    "\n",
    "    file = open('words.txt')\n",
    "\n",
    "    for line in file:\n",
    "\n",
    "        word_list = line.split()\n",
    "        word = word_list[0]\n",
    "\n",
    "        if 'a' or 'e' or 'i' or 'u' or 'o' in word:\n",
    "            continue\n",
    "        else:\n",
    "            print(word)"
   ]
  },
  {
   "cell_type": "code",
   "execution_count": 52,
   "id": "b18f371a",
   "metadata": {},
   "outputs": [],
   "source": [
    "check_for_vowels()"
   ]
  },
  {
   "cell_type": "code",
   "execution_count": 55,
   "id": "77395b51",
   "metadata": {},
   "outputs": [],
   "source": [
    "def check_for_vowels():\n",
    "\n",
    "    file = open('words.txt')\n",
    "\n",
    "    for line in file:\n",
    "\n",
    "        word_list = line.split()\n",
    "        word = word_list[0]\n",
    "\n",
    "        if any(s in word for s in ('a', 'e', 'i', 'u', 'o')):\n",
    "            continue\n",
    "        else:\n",
    "            print(word)"
   ]
  },
  {
   "cell_type": "code",
   "execution_count": 57,
   "id": "55abdab3",
   "metadata": {},
   "outputs": [
    {
     "name": "stdout",
     "output_type": "stream",
     "text": [
      "In\n",
      "trylyk\n",
      "Antryl\n"
     ]
    }
   ],
   "source": [
    "check_for_vowels()"
   ]
  },
  {
   "cell_type": "code",
   "execution_count": 53,
   "id": "a23e1c55",
   "metadata": {},
   "outputs": [],
   "source": [
    "def check_for_vowels():\n",
    "\n",
    "    file = open('words.txt')\n",
    "\n",
    "    for line in file:\n",
    "\n",
    "        word_list = line.split()\n",
    "        word = word_list[0]\n",
    "\n",
    "        if 'a' in word or 'e' in word or 'i' in word or 'u' in word or 'o' in word:\n",
    "            continue\n",
    "        else:\n",
    "            print(word)\n"
   ]
  },
  {
   "cell_type": "code",
   "execution_count": 54,
   "id": "14f9b7af",
   "metadata": {},
   "outputs": [
    {
     "name": "stdout",
     "output_type": "stream",
     "text": [
      "In\n",
      "trylyk\n",
      "Antryl\n"
     ]
    }
   ],
   "source": [
    "check_for_vowels()\n"
   ]
  },
  {
   "cell_type": "code",
   "execution_count": null,
   "id": "718c1883",
   "metadata": {},
   "outputs": [],
   "source": []
  }
 ],
 "metadata": {
  "kernelspec": {
   "display_name": "Python 3 (ipykernel)",
   "language": "python",
   "name": "python3"
  },
  "language_info": {
   "codemirror_mode": {
    "name": "ipython",
    "version": 3
   },
   "file_extension": ".py",
   "mimetype": "text/x-python",
   "name": "python",
   "nbconvert_exporter": "python",
   "pygments_lexer": "ipython3",
   "version": "3.9.12"
  }
 },
 "nbformat": 4,
 "nbformat_minor": 5
}
